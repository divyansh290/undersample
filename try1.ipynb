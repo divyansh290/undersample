import os
import pandas as pd
import requests
from concurrent.futures import ThreadPoolExecutor, as_completed
from tqdm import tqdm

# Load the dataset
file_path = '/content/train.csv'  # Replace with your actual file path
data = pd.read_csv(file_path)

# Create a directory to save the images
image_dir = 'downloaded_images'
os.makedirs(image_dir, exist_ok=True)

# Function to download an image from a URL
def download_image(row):
    image_url = row['image_link']
    image_name = f"{row['group_id']}_{row.name}.jpg"  # Unique image name using group_id and index
    save_path = os.path.join(image_dir, image_name)

    try:
        response = requests.get(image_url, stream=True)
        if response.status_code == 200:
            with open(save_path, 'wb') as file:
                for chunk in response.iter_content(1024):
                    file.write(chunk)
        return image_url, True  # Return URL and success status
    except Exception as e:
        return image_url, False  # Return URL and failure status

# Number of threads to use
num_threads = 80

# Use ThreadPoolExecutor to download images in parallel
with ThreadPoolExecutor(max_workers=num_threads) as executor:
    futures = [executor.submit(download_image, row) for idx, row in data.iterrows()]

    # Use tqdm to display progress
    for future in tqdm(as_completed(futures), total=len(futures)):
        url, success = future.result()
        if not success:
            print(f"Failed to download {url}")

print("Image download complete.")
